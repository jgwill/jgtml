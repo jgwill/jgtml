{
 "cells": [
  {
   "cell_type": "code",
   "execution_count": 117,
   "metadata": {},
   "outputs": [],
   "source": [
    "#%pip install genson"
   ]
  },
  {
   "cell_type": "code",
   "execution_count": 118,
   "metadata": {},
   "outputs": [],
   "source": [
    "\n",
    "\n",
    "instrument = 'SPX500'\n",
    "ifn = instrument.replace('/', '-')\n",
    "timeframe = 'D1'\n",
    "\n",
    "fn_basename = 'samples/' + ifn + '_'+timeframe+'.targets.mx'\n",
    "\n",
    "\n"
   ]
  },
  {
   "cell_type": "code",
   "execution_count": 119,
   "metadata": {},
   "outputs": [],
   "source": [
    "\n",
    "\n",
    "import pandas as pd\n",
    "from genson import SchemaBuilder\n",
    "\n"
   ]
  },
  {
   "cell_type": "markdown",
   "metadata": {},
   "source": [
    "# Prep"
   ]
  },
  {
   "cell_type": "code",
   "execution_count": 120,
   "metadata": {},
   "outputs": [],
   "source": [
    "\n",
    "# filter the data and select first\n",
    "\n",
    "# Load the CSV file into a pandas DataFrame\n",
    "df = pd.read_csv(fn_basename + '.csv')\n",
    "\n",
    "# Select the desired columns\n",
    "columns_to_select = ['Date', 'ao', 'jaw', 'teeth', 'lips', 'fdbb', 'price_peak_bellow', 'ao_peak_bellow', 'target']\n",
    "df_filtered = df[columns_to_select]\n",
    "\n",
    "# Rename the 'Date' column to 'timestamp'\n",
    "df_filtered = df_filtered.rename(columns={'Date': 'timestamp'})\n",
    "\n",
    "# timestamp as type timestamp\n",
    "df_filtered['timestamp'] = pd.to_datetime(df_filtered['timestamp'])\n",
    "\n",
    "# Rename the 'target' column to 'target_value'\n",
    "df_filtered = df_filtered.rename(columns={'target': 'target_value'})\n",
    "\n",
    "\n",
    "import tlid\n",
    "# Add a new column 'item_id'\n",
    "df_filtered['item_id'] = instrument + '_' + timeframe + '_' + df_filtered['timestamp'].apply(lambda x: tlid.fromdtstr(str(x)))\n",
    "\n",
    "# Move item_id to the first column\n",
    "cols = df_filtered.columns.tolist()\n",
    "cols = cols[-1:] + cols[:-1]\n",
    "df_filtered = df_filtered[cols]\n",
    "\n",
    "\n",
    "# Move target_value to the third column\n",
    "\n",
    "cols = df_filtered.columns.tolist()\n",
    "cols.insert(2, cols.pop(cols.index('target_value')))\n",
    "df_filtered = df_filtered[cols]\n",
    "\n",
    "\n"
   ]
  },
  {
   "cell_type": "code",
   "execution_count": 121,
   "metadata": {},
   "outputs": [],
   "source": [
    "# set 'target_value' is type : float\n",
    "df_filtered['target_value'] = df_filtered['target_value'].astype(float)\n",
    "\n",
    "\n"
   ]
  },
  {
   "cell_type": "code",
   "execution_count": 122,
   "metadata": {},
   "outputs": [],
   "source": [
    "\n",
    "\n",
    "# Write the filtered DataFrame to a file\n",
    "filtered_filename = fn_basename + '.filtered_data.csv'\n",
    "\n",
    "df_filtered.to_csv(filtered_filename, index=False)\n",
    "\n",
    "df = df_filtered"
   ]
  },
  {
   "cell_type": "code",
   "execution_count": null,
   "metadata": {},
   "outputs": [],
   "source": []
  },
  {
   "cell_type": "code",
   "execution_count": 123,
   "metadata": {},
   "outputs": [
    {
     "name": "stdout",
     "output_type": "stream",
     "text": [
      "{'$schema': 'http://json-schema.org/schema#', 'type': 'object', 'properties': {'item_id': {'type': 'string'}, 'timestamp': {'type': 'string'}, 'target_value': {'type': 'number'}, 'ao': {'type': 'number'}, 'jaw': {'type': 'number'}, 'teeth': {'type': 'number'}, 'lips': {'type': 'number'}, 'fdbb': {'type': 'number'}, 'price_peak_bellow': {'type': 'integer'}, 'ao_peak_bellow': {'type': 'integer'}}, 'required': ['ao', 'ao_peak_bellow', 'fdbb', 'item_id', 'jaw', 'lips', 'price_peak_bellow', 'target_value', 'teeth', 'timestamp']}\n"
     ]
    }
   ],
   "source": [
    "# Convert the DataFrame into a JSON object\n",
    "json_obj = df.to_dict(orient='records')\n",
    "\n",
    "# Use the genson library to generate a JSON schema\n",
    "builder = SchemaBuilder()\n",
    "builder.add_schema({\"type\": \"object\", \"properties\": {}})\n",
    "for row in json_obj:\n",
    "    # Convert the Timestamp object to a string\n",
    "    row['timestamp'] = str(row['timestamp'])\n",
    "    builder.add_object(row)\n",
    "\n",
    "# Print the JSON schema\n",
    "buildder_schema_data = builder.to_schema()\n",
    "print(buildder_schema_data)\n"
   ]
  },
  {
   "cell_type": "code",
   "execution_count": 124,
   "metadata": {},
   "outputs": [],
   "source": [
    "import json\n",
    "# Convert the dictionary to a JSON string\n",
    "schema_json = json.dumps(buildder_schema_data)\n",
    "\n",
    "# Write the JSON string to the file\n",
    "with open(fn_basename+ '.schema.json', 'w') as f:\n",
    "  f.write(schema_json)\n"
   ]
  },
  {
   "cell_type": "markdown",
   "metadata": {},
   "source": [
    "## Issue Format in AWS Forecasting import"
   ]
  },
  {
   "cell_type": "markdown",
   "metadata": {},
   "source": [
    "\n",
    "To convert the JSON schema to a format that AWS Glue expects, you can use Python. AWS Glue expects a list of dictionaries, where each dictionary represents a column in the schema. Each dictionary should have two keys: 'Name' and 'Type'. The 'Name' key corresponds to the column name, and the 'Type' key corresponds to the column type.\n",
    "\n",
    "Here's a Python script that converts the JSON schema to the AWS Glue format:\n",
    "\n",
    "```python\n",
    "import json\n",
    "\n",
    "# Load the JSON schema\n",
    "with open('SPX500_D1.targets.mx.schema.json', 'r') as f:\n",
    "    schema = json.load(f)\n",
    "\n",
    "# Initialize an empty list to hold the AWS Glue schema\n",
    "glue_schema = []\n",
    "\n",
    "# Convert the JSON schema to the AWS Glue format\n",
    "for name, properties in schema['properties'].items():\n",
    "    glue_schema.append({\n",
    "        'Name': name,\n",
    "        'Type': properties['type']\n",
    "    })\n",
    "\n",
    "# Print the AWS Glue schema\n",
    "print(glue_schema)\n",
    "```\n",
    "\n",
    "This script will print a list of dictionaries, where each dictionary represents a column in the AWS Glue schema. The 'Name' key in each dictionary corresponds to the column name, and the 'Type' key corresponds to the column type.\n",
    "\n",
    "Please note that this script assumes that the JSON schema is in the same directory as the script and that the file is named 'SPX500_D1.targets.mx.schema.json'. If the file is located elsewhere or has a different name, you will need to modify the script accordingly.\n",
    "\n",
    "Also, please note that the script maps the JSON schema types directly to the AWS Glue types. If the types in your JSON schema do not match the types expected by AWS Glue, you will need to add a mapping between the JSON schema types and the AWS Glue types."
   ]
  },
  {
   "cell_type": "code",
   "execution_count": 125,
   "metadata": {},
   "outputs": [
    {
     "name": "stdout",
     "output_type": "stream",
     "text": [
      "[{'Name': 'item_id', 'Type': 'string'}, {'Name': 'timestamp', 'Type': 'string'}, {'Name': 'target_value', 'Type': 'number'}, {'Name': 'ao', 'Type': 'number'}, {'Name': 'jaw', 'Type': 'number'}, {'Name': 'teeth', 'Type': 'number'}, {'Name': 'lips', 'Type': 'number'}, {'Name': 'fdbb', 'Type': 'number'}, {'Name': 'price_peak_bellow', 'Type': 'integer'}, {'Name': 'ao_peak_bellow', 'Type': 'integer'}]\n"
     ]
    }
   ],
   "source": [
    "\n",
    "# Load the JSON schema\n",
    "import json\n",
    "with open(fn_basename + '.schema.json', 'r') as f:\n",
    "    schema = json.load(f)\n",
    "\n",
    "# Initialize an empty list to hold the AWS Glue schema\n",
    "glue_schema = []\n",
    "\n",
    "# Convert the JSON schema to the AWS Glue format\n",
    "for name, properties in schema['properties'].items():\n",
    "    glue_schema.append({\n",
    "        'Name': name,\n",
    "        'Type': properties['type']\n",
    "    })\n",
    "\n",
    "# Print the AWS Glue schema\n",
    "print(glue_schema)\n"
   ]
  },
  {
   "cell_type": "code",
   "execution_count": 126,
   "metadata": {},
   "outputs": [],
   "source": [
    "# Write the AWS Glue schema to a file\n",
    "with open(fn_basename + '.glue.json', 'w') as f:\n",
    "    json.dump(glue_schema, f, indent=2)\n"
   ]
  },
  {
   "cell_type": "markdown",
   "metadata": {},
   "source": [
    "\n",
    "\n",
    "The error message suggests that the AWS service you're using does not expect the schema to be a list of dictionaries. Instead, it seems to expect a single dictionary where each key is a column name and each value is the corresponding column type.\n",
    "\n",
    "Here's a Python script that converts the AWS Glue schema to this format:\n",
    "\n",
    "```python\n",
    "import json\n",
    "\n",
    "# Load the AWS Glue schema\n",
    "with open('SPX500_D1.targets.mx.glue.json', 'r') as f:\n",
    "    glue_schema = json.load(f)\n",
    "\n",
    "# Initialize an empty dictionary to hold the converted schema\n",
    "converted_schema = {}\n",
    "\n",
    "# Convert the AWS Glue schema to the expected format\n",
    "for column in glue_schema:\n",
    "    converted_schema[column['Name']] = column['Type']\n",
    "\n",
    "# Print the converted schema\n",
    "print(converted_schema)\n",
    "```\n",
    "\n",
    "This script will print a single dictionary where each key is a column name and each value is the corresponding column type.\n",
    "\n",
    "Please note that this script assumes that the AWS Glue schema is in the same directory as the script and that the file is named 'SPX500_D1.targets.mx.glue.json'. If the file is located elsewhere or has a different name, you will need to modify the script accordingly."
   ]
  },
  {
   "cell_type": "code",
   "execution_count": 127,
   "metadata": {},
   "outputs": [
    {
     "name": "stdout",
     "output_type": "stream",
     "text": [
      "{'item_id': 'string', 'timestamp': 'string', 'target_value': 'number', 'ao': 'number', 'jaw': 'number', 'teeth': 'number', 'lips': 'number', 'fdbb': 'number', 'price_peak_bellow': 'integer', 'ao_peak_bellow': 'integer'}\n"
     ]
    },
    {
     "data": {
      "text/plain": [
       "{'Attributes': [{'AttributeName': 'item_id', 'AttributeType': 'string'},\n",
       "  {'AttributeName': 'timestamp', 'AttributeType': 'timestamp'},\n",
       "  {'AttributeName': 'target_value', 'AttributeType': 'float'},\n",
       "  {'AttributeName': 'ao', 'AttributeType': 'string'},\n",
       "  {'AttributeName': 'jaw', 'AttributeType': 'string'},\n",
       "  {'AttributeName': 'teeth', 'AttributeType': 'string'},\n",
       "  {'AttributeName': 'lips', 'AttributeType': 'string'},\n",
       "  {'AttributeName': 'fdbb', 'AttributeType': 'string'},\n",
       "  {'AttributeName': 'price_peak_bellow', 'AttributeType': 'string'},\n",
       "  {'AttributeName': 'ao_peak_bellow', 'AttributeType': 'string'}]}"
      ]
     },
     "execution_count": 127,
     "metadata": {},
     "output_type": "execute_result"
    }
   ],
   "source": [
    "\n",
    "\n",
    "import json\n",
    "\n",
    "# Load the AWS Glue schema\n",
    "with open(fn_basename + '.glue.json', 'r') as f:\n",
    "    glue_schema = json.load(f)\n",
    "\n",
    "# Initialize an empty dictionary to hold the converted schema\n",
    "converted_schema = {}\n",
    "\n",
    "# Convert the AWS Glue schema to the expected format\n",
    "for column in glue_schema:\n",
    "    converted_schema[column['Name']] = column['Type']\n",
    "\n",
    "# Print the converted schema\n",
    "print(converted_schema)\n",
    "\n",
    "attributes = []\n",
    "for name, data_type in converted_schema.items():\n",
    "    if name == 'timestamp':\n",
    "        data_type= \"timestamp\"\n",
    "\n",
    "    if name == 'target_value':\n",
    "        data_type = 'float'    \n",
    "    \n",
    "    if name == 'item_id':\n",
    "        data_type = 'string'\n",
    "    \n",
    "    if name != 'timestamp' and name != 'target_value' and name != 'item_id':\n",
    "        data_type = 'string'\n",
    "    \n",
    "                 \n",
    "    attributes.append({\n",
    "        \"AttributeName\": name,\n",
    "        \"AttributeType\": data_type\n",
    "    })\n",
    "\n",
    "formatted_attributes = {\"Attributes\": attributes}\n",
    "\n",
    "formatted_attributes\n",
    "\n",
    "\n",
    "\n",
    "\n"
   ]
  },
  {
   "cell_type": "code",
   "execution_count": 128,
   "metadata": {},
   "outputs": [],
   "source": [
    "\n",
    "# Write the converted schema to a file\n",
    "\n",
    "with open(fn_basename + '.glue.converted.f.json', 'w') as f:\n",
    "    json.dump(formatted_attributes, f, indent=2)\n",
    "    "
   ]
  },
  {
   "cell_type": "code",
   "execution_count": 129,
   "metadata": {},
   "outputs": [],
   "source": [
    "# Write the converted schema to a file\n",
    "\n",
    "with open(fn_basename + '.glue.converted.json', 'w') as f:\n",
    "    json.dump(converted_schema, f, indent=2)\n",
    "    "
   ]
  },
  {
   "cell_type": "markdown",
   "metadata": {},
   "source": [
    "## Keep only those attributes\n",
    "\n",
    "```json\n",
    "\n",
    "{\n",
    "  \"Date\": \"string\",\n",
    "  \"Close\": \"number\",\n",
    "  \"ao\": \"number\",\n",
    "  \"ac\": \"number\",\n",
    "  \"jaw\": \"number\",\n",
    "  \"teeth\": \"number\",\n",
    "  \"lips\": \"number\",\n",
    "  \"fh\": \"integer\",\n",
    "  \"fl\": \"integer\",\n",
    "  \"fdbb\": \"number\",\n",
    "  \"price_peak_bellow\": \"integer\",\n",
    "  \"ao_peak_bellow\": \"integer\",\n",
    "  \"target\": \"number\"\n",
    "}\n",
    "\n",
    "```"
   ]
  },
  {
   "cell_type": "code",
   "execution_count": null,
   "metadata": {},
   "outputs": [],
   "source": []
  },
  {
   "cell_type": "code",
   "execution_count": null,
   "metadata": {},
   "outputs": [],
   "source": [
    "\n"
   ]
  },
  {
   "cell_type": "code",
   "execution_count": null,
   "metadata": {},
   "outputs": [],
   "source": []
  },
  {
   "cell_type": "code",
   "execution_count": null,
   "metadata": {},
   "outputs": [],
   "source": []
  },
  {
   "cell_type": "code",
   "execution_count": null,
   "metadata": {},
   "outputs": [],
   "source": []
  }
 ],
 "metadata": {
  "kernelspec": {
   "display_name": "jgtml",
   "language": "python",
   "name": "python3"
  },
  "language_info": {
   "codemirror_mode": {
    "name": "ipython",
    "version": 3
   },
   "file_extension": ".py",
   "mimetype": "text/x-python",
   "name": "python",
   "nbconvert_exporter": "python",
   "pygments_lexer": "ipython3",
   "version": "3.10.13"
  }
 },
 "nbformat": 4,
 "nbformat_minor": 2
}
