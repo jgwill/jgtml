{
 "cells": [
  {
   "cell_type": "code",
   "execution_count": null,
   "metadata": {},
   "outputs": [],
   "source": []
  },
  {
   "cell_type": "markdown",
   "metadata": {},
   "source": [
    "* set a context TF (D1,H4)\n",
    "* Refresh all CDS from context to higher tf\n",
    "* get a list of higher columns to merge\n"
   ]
  },
  {
   "cell_type": "markdown",
   "metadata": {},
   "source": []
  },
  {
   "cell_type": "code",
   "execution_count": 1,
   "metadata": {},
   "outputs": [],
   "source": [
    "from jgtpy import JGTCDSSvc as svc"
   ]
  },
  {
   "cell_type": "code",
   "execution_count": 2,
   "metadata": {},
   "outputs": [],
   "source": [
    "i=\"SPX500\";t=\"D1\""
   ]
  },
  {
   "cell_type": "code",
   "execution_count": 3,
   "metadata": {},
   "outputs": [],
   "source": [
    "from jgtutils import jgtpov as jpov"
   ]
  },
  {
   "cell_type": "code",
   "execution_count": 4,
   "metadata": {},
   "outputs": [],
   "source": [
    "#@STCGoal MIGRATED to jgtpov\n",
    "# def get_higher_tf_array(t):\n",
    "#   # for level from 0 to 3, run jpov.get_higher_tf_by_level(t,level)\n",
    "#   arr=[t]\n",
    "#   for level in range(0,4):\n",
    "#     tf = jpov.get_higher_tf_by_level(t,level)\n",
    "#     if tf is not None:\n",
    "#       arr.append(tf)\n",
    "#       #print(tf)\n",
    "#   #remove duplicate if any\n",
    "  \n",
    "#   arr = list(set(arr))\n",
    "#   return arr"
   ]
  },
  {
   "cell_type": "code",
   "execution_count": 5,
   "metadata": {},
   "outputs": [],
   "source": [
    "povs=jpov.get_higher_tf_array(t)"
   ]
  },
  {
   "cell_type": "code",
   "execution_count": 6,
   "metadata": {},
   "outputs": [],
   "source": [
    "use_fresh=False"
   ]
  },
  {
   "cell_type": "code",
   "execution_count": 7,
   "metadata": {},
   "outputs": [
    {
     "name": "stdout",
     "output_type": "stream",
     "text": [
      "CDSSvc Get:  M1  of :  D1\n",
      "CDSSvc Get:  D1  of :  D1\n",
      "CDSSvc Get:  W1  of :  D1\n"
     ]
    }
   ],
   "source": [
    "cdf_datasets=svc.get_higher_cdf_datasets(i,t,use_full=True,use_fresh=use_fresh)"
   ]
  },
  {
   "cell_type": "code",
   "execution_count": 8,
   "metadata": {},
   "outputs": [
    {
     "name": "stdout",
     "output_type": "stream",
     "text": [
      "M1\n",
      "Index(['BidOpen', 'BidHigh', 'BidLow', 'BidClose', 'AskOpen', 'AskHigh',\n",
      "       'AskLow', 'AskClose', 'Volume', 'Open', 'High', 'Low', 'Close',\n",
      "       'Median', 'ao', 'ac', 'jaw', 'teeth', 'lips', 'bjaw', 'bteeth', 'blips',\n",
      "       'fh', 'fl', 'fh3', 'fl3', 'fh5', 'fl5', 'fh8', 'fl8', 'fh13', 'fl13',\n",
      "       'fh21', 'fl21', 'fh34', 'fl34', 'fh55', 'fl55', 'fh89', 'fl89', 'mfi',\n",
      "       'fdbb', 'fdbs', 'fdb', 'aoaz', 'aobz', 'zlc', 'zlcb', 'zlcs', 'zcol',\n",
      "       'sz', 'bz', 'acs', 'acb', 'ss', 'sb', 'price_peak_above',\n",
      "       'price_peak_bellow', 'ao_peak_above', 'ao_peak_bellow', 'mfi_sq',\n",
      "       'mfi_green', 'mfi_fade', 'mfi_fake', 'mfi_sig', 'mfi_str'],\n",
      "      dtype='object')\n",
      "                     BidOpen  BidHigh   BidLow  BidClose  AskOpen  AskHigh  \\\n",
      "Date                                                                         \n",
      "2024-05-31 21:00:00  5292.01  5490.11  5236.66   5474.34  5292.61  5490.61   \n",
      "\n",
      "                      AskLow  AskClose   Volume     Open  ...  \\\n",
      "Date                                                      ...   \n",
      "2024-05-31 21:00:00  5237.16   5474.94  1324951  5292.31  ...   \n",
      "\n",
      "                     price_peak_above  price_peak_bellow  ao_peak_above  \\\n",
      "Date                                                                      \n",
      "2024-05-31 21:00:00                 0                  0              0   \n",
      "\n",
      "                     ao_peak_bellow  mfi_sq  mfi_green  mfi_fade  mfi_fake  \\\n",
      "Date                                                                         \n",
      "2024-05-31 21:00:00               0       0          0         1         0   \n",
      "\n",
      "                     mfi_sig  mfi_str  \n",
      "Date                                   \n",
      "2024-05-31 21:00:00        2       --  \n",
      "\n",
      "[1 rows x 66 columns]\n",
      "D1\n",
      "Index(['BidOpen', 'BidHigh', 'BidLow', 'BidClose', 'AskOpen', 'AskHigh',\n",
      "       'AskLow', 'AskClose', 'Volume', 'Open', 'High', 'Low', 'Close',\n",
      "       'Median', 'ao', 'ac', 'jaw', 'teeth', 'lips', 'bjaw', 'bteeth', 'blips',\n",
      "       'tjaw', 'tteeth', 'tlips', 'fh', 'fl', 'fh3', 'fl3', 'fh5', 'fl5',\n",
      "       'fh8', 'fl8', 'fh13', 'fl13', 'fh21', 'fl21', 'fh34', 'fl34', 'fh55',\n",
      "       'fl55', 'fh89', 'fl89', 'mfi', 'fdbb', 'fdbs', 'fdb', 'aoaz', 'aobz',\n",
      "       'zlc', 'zlcb', 'zlcs', 'zcol', 'sz', 'bz', 'acs', 'acb', 'ss', 'sb',\n",
      "       'price_peak_above', 'price_peak_bellow', 'ao_peak_above',\n",
      "       'ao_peak_bellow', 'mfi_sq', 'mfi_green', 'mfi_fade', 'mfi_fake',\n",
      "       'mfi_sig', 'mfi_str'],\n",
      "      dtype='object')\n",
      "                     BidOpen  BidHigh   BidLow  BidClose  AskOpen  AskHigh  \\\n",
      "Date                                                                         \n",
      "2024-06-17 21:00:00   5475.9  5483.21  5470.58   5474.45   5476.3   5483.9   \n",
      "\n",
      "                      AskLow  AskClose  Volume    Open  ...  price_peak_above  \\\n",
      "Date                                                    ...                     \n",
      "2024-06-17 21:00:00  5471.18   5475.05   25122  5476.1  ...                 0   \n",
      "\n",
      "                     price_peak_bellow  ao_peak_above  ao_peak_bellow  mfi_sq  \\\n",
      "Date                                                                            \n",
      "2024-06-17 21:00:00                  0              0               0       0   \n",
      "\n",
      "                     mfi_green  mfi_fade  mfi_fake  mfi_sig  mfi_str  \n",
      "Date                                                                  \n",
      "2024-06-17 21:00:00          0         1         0        2       --  \n",
      "\n",
      "[1 rows x 69 columns]\n",
      "W1\n",
      "Index(['BidOpen', 'BidHigh', 'BidLow', 'BidClose', 'AskOpen', 'AskHigh',\n",
      "       'AskLow', 'AskClose', 'Volume', 'Open', 'High', 'Low', 'Close',\n",
      "       'Median', 'ao', 'ac', 'jaw', 'teeth', 'lips', 'bjaw', 'bteeth', 'blips',\n",
      "       'tjaw', 'tteeth', 'tlips', 'fh', 'fl', 'fh3', 'fl3', 'fh5', 'fl5',\n",
      "       'fh8', 'fl8', 'fh13', 'fl13', 'fh21', 'fl21', 'fh34', 'fl34', 'fh55',\n",
      "       'fl55', 'fh89', 'fl89', 'mfi', 'fdbb', 'fdbs', 'fdb', 'aoaz', 'aobz',\n",
      "       'zlc', 'zlcb', 'zlcs', 'zcol', 'sz', 'bz', 'acs', 'acb', 'ss', 'sb',\n",
      "       'price_peak_above', 'price_peak_bellow', 'ao_peak_above',\n",
      "       'ao_peak_bellow', 'mfi_sq', 'mfi_green', 'mfi_fade', 'mfi_fake',\n",
      "       'mfi_sig', 'mfi_str'],\n",
      "      dtype='object')\n",
      "                     BidOpen  BidHigh   BidLow  BidClose  AskOpen  AskHigh  \\\n",
      "Date                                                                         \n",
      "2024-06-15 21:00:00  5429.92  5490.11  5421.07   5474.33  5430.32  5490.61   \n",
      "\n",
      "                     AskLow  AskClose  Volume     Open  ...  price_peak_above  \\\n",
      "Date                                                    ...                     \n",
      "2024-06-15 21:00:00  5421.6   5474.93  140310  5430.12  ...                 0   \n",
      "\n",
      "                     price_peak_bellow  ao_peak_above  ao_peak_bellow  mfi_sq  \\\n",
      "Date                                                                            \n",
      "2024-06-15 21:00:00                  0              0               0       0   \n",
      "\n",
      "                     mfi_green  mfi_fade  mfi_fake  mfi_sig  mfi_str  \n",
      "Date                                                                  \n",
      "2024-06-15 21:00:00          0         0         1        3       -+  \n",
      "\n",
      "[1 rows x 69 columns]\n"
     ]
    }
   ],
   "source": [
    "for k in cdf_datasets:\n",
    "  \n",
    "  #print(cdf)\n",
    "  print(k)\n",
    "  v=cdf_datasets[k]\n",
    "  print(v.columns)\n",
    "  print(v.tail(1))\n",
    "  #print(\"\")"
   ]
  },
  {
   "cell_type": "code",
   "execution_count": null,
   "metadata": {},
   "outputs": [],
   "source": []
  }
 ],
 "metadata": {
  "kernelspec": {
   "display_name": "jgtml",
   "language": "python",
   "name": "python3"
  },
  "language_info": {
   "codemirror_mode": {
    "name": "ipython",
    "version": 3
   },
   "file_extension": ".py",
   "mimetype": "text/x-python",
   "name": "python",
   "nbconvert_exporter": "python",
   "pygments_lexer": "ipython3",
   "version": "3.10.13"
  }
 },
 "nbformat": 4,
 "nbformat_minor": 2
}
