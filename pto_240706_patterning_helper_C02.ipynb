{
 "cells": [
  {
   "cell_type": "code",
   "execution_count": 1,
   "metadata": {},
   "outputs": [],
   "source": [
    "import numpy as np\n",
    "import pandas as pd\n",
    "\n",
    "import os\n",
    "import sys\n",
    "\n",
    "# Get the current working directory (where the notebook is located)\n",
    "notebook_dir = os.getcwd()\n",
    "\n",
    "# If you need to add a specific directory relative to the notebook directory, adjust the path accordingly\n",
    "desired_path = os.path.join(notebook_dir, '.')\n",
    "\n",
    "# Add the directory to sys.path\n",
    "sys.path.insert(0, desired_path)\n"
   ]
  },
  {
   "cell_type": "code",
   "execution_count": null,
   "metadata": {},
   "outputs": [],
   "source": []
  },
  {
   "cell_type": "markdown",
   "metadata": {},
   "source": [
    "### What we need to load/create the source Datasets with indicators and signals"
   ]
  },
  {
   "cell_type": "code",
   "execution_count": 2,
   "metadata": {},
   "outputs": [],
   "source": [
    "\n",
    "#from jgtpy import JGTCDSSvc as cdssvc\n",
    "\n"
   ]
  },
  {
   "cell_type": "markdown",
   "metadata": {},
   "source": [
    "### From bellow, we import what we will require to add MFI lags on the TTF etc"
   ]
  },
  {
   "cell_type": "code",
   "execution_count": 1,
   "metadata": {},
   "outputs": [],
   "source": [
    "\n",
    "from jgtutils.jgtconstants import MFI_VAL,MFI_SIGNAL,VOLUME,FDB_TARGET as TARGET\n",
    "#from jgtpy import mfihelper as mfih\n",
    "from jgtml.mfihelper2 import get_mfi_features_column_list_by_timeframe\n",
    "from jgtml import anhelper\n"
   ]
  },
  {
   "cell_type": "markdown",
   "metadata": {},
   "source": [
    "\n",
    "* Create the dataset"
   ]
  },
  {
   "cell_type": "code",
   "execution_count": null,
   "metadata": {},
   "outputs": [],
   "source": []
  },
  {
   "cell_type": "code",
   "execution_count": 4,
   "metadata": {},
   "outputs": [],
   "source": [
    "i=\"SPX500\";t=\"D1\"\n"
   ]
  },
  {
   "cell_type": "markdown",
   "metadata": {},
   "source": [
    "### --@STCIssue might be from ptottf import read_ttf_csv\n"
   ]
  },
  {
   "cell_type": "code",
   "execution_count": 5,
   "metadata": {
    "tags": [
     "ttf"
    ]
   },
   "outputs": [
    {
     "name": "stdout",
     "output_type": "stream",
     "text": [
      "   Read TTF:  /var/lib/jgt/full/data/ttf/SPX500_D1_ttf.csv\n"
     ]
    }
   ],
   "source": [
    "\n",
    "from jgtml.ptottf import read_ttf_csv\n",
    "#@STCIssue THAT is What we need\n",
    "ttfdf=read_ttf_csv(i, t, use_full=True)"
   ]
  },
  {
   "cell_type": "code",
   "execution_count": 6,
   "metadata": {},
   "outputs": [
    {
     "data": {
      "text/plain": [
       "Index(['BidOpen', 'BidHigh', 'BidLow', 'BidClose', 'AskOpen', 'AskHigh',\n",
       "       'AskLow', 'AskClose', 'Volume', 'Open', 'High', 'Low', 'Close',\n",
       "       'Median', 'ao', 'ac', 'jaw', 'teeth', 'lips', 'bjaw', 'bteeth', 'blips',\n",
       "       'tjaw', 'tteeth', 'tlips', 'fh', 'fl', 'fh3', 'fl3', 'fh5', 'fl5',\n",
       "       'fh8', 'fl8', 'fh13', 'fl13', 'fh21', 'fl21', 'fh34', 'fl34', 'fh55',\n",
       "       'fl55', 'fh89', 'fl89', 'mfi', 'fdbb', 'fdbs', 'fdb', 'aoaz', 'aobz',\n",
       "       'zlc', 'zlcb', 'zlcs', 'zcol', 'sz', 'bz', 'acs', 'acb', 'ss', 'sb',\n",
       "       'price_peak_above', 'price_peak_bellow', 'ao_peak_above',\n",
       "       'ao_peak_bellow', 'mfi_sq', 'mfi_green', 'mfi_fade', 'mfi_fake',\n",
       "       'mfi_sig', 'mfi_str', 'mfi_str_M1', 'zcol_M1', 'ao_M1', 'mfi_str_W1',\n",
       "       'zcol_W1', 'ao_W1'],\n",
       "      dtype='object')"
      ]
     },
     "execution_count": 6,
     "metadata": {},
     "output_type": "execute_result"
    }
   ],
   "source": [
    "ttfdf.columns"
   ]
  },
  {
   "cell_type": "code",
   "execution_count": 7,
   "metadata": {},
   "outputs": [
    {
     "data": {
      "text/html": [
       "<div>\n",
       "<style scoped>\n",
       "    .dataframe tbody tr th:only-of-type {\n",
       "        vertical-align: middle;\n",
       "    }\n",
       "\n",
       "    .dataframe tbody tr th {\n",
       "        vertical-align: top;\n",
       "    }\n",
       "\n",
       "    .dataframe thead th {\n",
       "        text-align: right;\n",
       "    }\n",
       "</style>\n",
       "<table border=\"1\" class=\"dataframe\">\n",
       "  <thead>\n",
       "    <tr style=\"text-align: right;\">\n",
       "      <th></th>\n",
       "      <th>BidOpen</th>\n",
       "      <th>BidHigh</th>\n",
       "      <th>BidLow</th>\n",
       "      <th>BidClose</th>\n",
       "      <th>AskOpen</th>\n",
       "      <th>AskHigh</th>\n",
       "      <th>AskLow</th>\n",
       "      <th>AskClose</th>\n",
       "      <th>Volume</th>\n",
       "      <th>Open</th>\n",
       "      <th>...</th>\n",
       "      <th>mfi_fade</th>\n",
       "      <th>mfi_fake</th>\n",
       "      <th>mfi_sig</th>\n",
       "      <th>mfi_str</th>\n",
       "      <th>mfi_str_M1</th>\n",
       "      <th>zcol_M1</th>\n",
       "      <th>ao_M1</th>\n",
       "      <th>mfi_str_W1</th>\n",
       "      <th>zcol_W1</th>\n",
       "      <th>ao_W1</th>\n",
       "    </tr>\n",
       "    <tr>\n",
       "      <th>Date</th>\n",
       "      <th></th>\n",
       "      <th></th>\n",
       "      <th></th>\n",
       "      <th></th>\n",
       "      <th></th>\n",
       "      <th></th>\n",
       "      <th></th>\n",
       "      <th></th>\n",
       "      <th></th>\n",
       "      <th></th>\n",
       "      <th></th>\n",
       "      <th></th>\n",
       "      <th></th>\n",
       "      <th></th>\n",
       "      <th></th>\n",
       "      <th></th>\n",
       "      <th></th>\n",
       "      <th></th>\n",
       "      <th></th>\n",
       "      <th></th>\n",
       "      <th></th>\n",
       "    </tr>\n",
       "  </thead>\n",
       "  <tbody>\n",
       "    <tr>\n",
       "      <th>2024-07-02 21:00:00</th>\n",
       "      <td>5513.96</td>\n",
       "      <td>5547.01</td>\n",
       "      <td>5511.19</td>\n",
       "      <td>5542.12</td>\n",
       "      <td>5514.36</td>\n",
       "      <td>5547.51</td>\n",
       "      <td>5511.79</td>\n",
       "      <td>5542.62</td>\n",
       "      <td>51015</td>\n",
       "      <td>5514.16</td>\n",
       "      <td>...</td>\n",
       "      <td>1</td>\n",
       "      <td>0</td>\n",
       "      <td>3</td>\n",
       "      <td>--</td>\n",
       "      <td>-+</td>\n",
       "      <td>gray</td>\n",
       "      <td>0.822879</td>\n",
       "      <td>-+</td>\n",
       "      <td>gray</td>\n",
       "      <td>0.803511</td>\n",
       "    </tr>\n",
       "    <tr>\n",
       "      <th>2024-07-03 21:00:00</th>\n",
       "      <td>5542.12</td>\n",
       "      <td>5548.70</td>\n",
       "      <td>5537.23</td>\n",
       "      <td>5540.25</td>\n",
       "      <td>5542.62</td>\n",
       "      <td>5549.30</td>\n",
       "      <td>5537.73</td>\n",
       "      <td>5540.75</td>\n",
       "      <td>12133</td>\n",
       "      <td>5542.37</td>\n",
       "      <td>...</td>\n",
       "      <td>0</td>\n",
       "      <td>1</td>\n",
       "      <td>2</td>\n",
       "      <td>-+</td>\n",
       "      <td>-+</td>\n",
       "      <td>gray</td>\n",
       "      <td>0.822879</td>\n",
       "      <td>-+</td>\n",
       "      <td>gray</td>\n",
       "      <td>0.803511</td>\n",
       "    </tr>\n",
       "    <tr>\n",
       "      <th>2024-07-04 21:00:00</th>\n",
       "      <td>5540.25</td>\n",
       "      <td>5577.70</td>\n",
       "      <td>5536.90</td>\n",
       "      <td>5568.90</td>\n",
       "      <td>5540.75</td>\n",
       "      <td>5578.21</td>\n",
       "      <td>5537.50</td>\n",
       "      <td>5569.50</td>\n",
       "      <td>72693</td>\n",
       "      <td>5540.50</td>\n",
       "      <td>...</td>\n",
       "      <td>0</td>\n",
       "      <td>0</td>\n",
       "      <td>1</td>\n",
       "      <td>+-</td>\n",
       "      <td>-+</td>\n",
       "      <td>gray</td>\n",
       "      <td>0.822879</td>\n",
       "      <td>-+</td>\n",
       "      <td>gray</td>\n",
       "      <td>0.803511</td>\n",
       "    </tr>\n",
       "  </tbody>\n",
       "</table>\n",
       "<p>3 rows × 75 columns</p>\n",
       "</div>"
      ],
      "text/plain": [
       "                     BidOpen  BidHigh   BidLow  BidClose  AskOpen  AskHigh  \\\n",
       "Date                                                                         \n",
       "2024-07-02 21:00:00  5513.96  5547.01  5511.19   5542.12  5514.36  5547.51   \n",
       "2024-07-03 21:00:00  5542.12  5548.70  5537.23   5540.25  5542.62  5549.30   \n",
       "2024-07-04 21:00:00  5540.25  5577.70  5536.90   5568.90  5540.75  5578.21   \n",
       "\n",
       "                      AskLow  AskClose  Volume     Open  ...  mfi_fade  \\\n",
       "Date                                                     ...             \n",
       "2024-07-02 21:00:00  5511.79   5542.62   51015  5514.16  ...         1   \n",
       "2024-07-03 21:00:00  5537.73   5540.75   12133  5542.37  ...         0   \n",
       "2024-07-04 21:00:00  5537.50   5569.50   72693  5540.50  ...         0   \n",
       "\n",
       "                     mfi_fake  mfi_sig  mfi_str  mfi_str_M1  zcol_M1  \\\n",
       "Date                                                                   \n",
       "2024-07-02 21:00:00         0        3       --          -+     gray   \n",
       "2024-07-03 21:00:00         1        2       -+          -+     gray   \n",
       "2024-07-04 21:00:00         0        1       +-          -+     gray   \n",
       "\n",
       "                        ao_M1  mfi_str_W1  zcol_W1     ao_W1  \n",
       "Date                                                          \n",
       "2024-07-02 21:00:00  0.822879          -+     gray  0.803511  \n",
       "2024-07-03 21:00:00  0.822879          -+     gray  0.803511  \n",
       "2024-07-04 21:00:00  0.822879          -+     gray  0.803511  \n",
       "\n",
       "[3 rows x 75 columns]"
      ]
     },
     "execution_count": 7,
     "metadata": {},
     "output_type": "execute_result"
    }
   ],
   "source": [
    "ttfdf.tail(3)"
   ]
  },
  {
   "cell_type": "markdown",
   "metadata": {},
   "source": [
    "### Adding Lags to data we wanted"
   ]
  },
  {
   "cell_type": "markdown",
   "metadata": {},
   "source": [
    "* Added lags\n",
    "* ending up with probably one row that we pass to the predictor of the model we created with the MX"
   ]
  },
  {
   "cell_type": "markdown",
   "metadata": {},
   "source": [
    "## --@STCGoal Dataset is feature Learning Ready\n"
   ]
  },
  {
   "cell_type": "code",
   "execution_count": 8,
   "metadata": {},
   "outputs": [],
   "source": [
    "def mk_xbn(i,t,bnamespace,midfix,suffix=\"\"):\n",
    "    ifn=i.replace(\"/\",\"-\")\n",
    "    pov_fn_base=ifn+\"_\"+t\n",
    "    outbn= pov_fn_base+ \"_\" +bnamespace +\"_\"+ midfix+\"_\" + suffix\n",
    "    outbn=outbn.replace(\" \",\"_\").replace(\"__\",\"_\").replace(\"_.\",\".\")\n",
    "    return outbn\n",
    "\n",
    "def mk_xfn(i,t,bnamespace,midfix,suffix=\"\",ext=\".csv\"):\n",
    "    outbn=mk_xbn(i,t,bnamespace,midfix,suffix)\n",
    "    outfn= outbn + ext\n",
    "    outfn=outfn.replace(\" \",\"_\").replace(\"__\",\"_\").replace(\"_.\",\".\")\n",
    "    return outfn\n",
    "\n",
    "def mk_xfn_from_xbn(outbn,ext=\".csv\"):\n",
    "    outfn= outbn + ext\n",
    "    outfn=outfn.replace(\" \",\"_\").replace(\"__\",\"_\").replace(\"_.\",\".\")\n",
    "    return outfn"
   ]
  },
  {
   "cell_type": "code",
   "execution_count": 9,
   "metadata": {},
   "outputs": [],
   "source": [
    "# Save this to a file to observe it in other tools\n",
    "\n",
    "xperiment_bnamespace=\"pto_240706pt\"\n",
    "bnamespace_01_ttfdf = \"_ttf\"\n",
    "bnamespace_05_ttfdf_with_lags = bnamespace_01_ttfdf+\"_lags\"\n"
   ]
  },
  {
   "cell_type": "code",
   "execution_count": 10,
   "metadata": {},
   "outputs": [
    {
     "data": {
      "text/html": [
       "<div>\n",
       "<style scoped>\n",
       "    .dataframe tbody tr th:only-of-type {\n",
       "        vertical-align: middle;\n",
       "    }\n",
       "\n",
       "    .dataframe tbody tr th {\n",
       "        vertical-align: top;\n",
       "    }\n",
       "\n",
       "    .dataframe thead th {\n",
       "        text-align: right;\n",
       "    }\n",
       "</style>\n",
       "<table border=\"1\" class=\"dataframe\">\n",
       "  <thead>\n",
       "    <tr style=\"text-align: right;\">\n",
       "      <th></th>\n",
       "      <th>BidOpen</th>\n",
       "      <th>BidHigh</th>\n",
       "      <th>BidLow</th>\n",
       "      <th>BidClose</th>\n",
       "      <th>AskOpen</th>\n",
       "      <th>AskHigh</th>\n",
       "      <th>AskLow</th>\n",
       "      <th>AskClose</th>\n",
       "      <th>Volume</th>\n",
       "      <th>Open</th>\n",
       "      <th>...</th>\n",
       "      <th>mfi_fade</th>\n",
       "      <th>mfi_fake</th>\n",
       "      <th>mfi_sig</th>\n",
       "      <th>mfi_str</th>\n",
       "      <th>mfi_str_M1</th>\n",
       "      <th>zcol_M1</th>\n",
       "      <th>ao_M1</th>\n",
       "      <th>mfi_str_W1</th>\n",
       "      <th>zcol_W1</th>\n",
       "      <th>ao_W1</th>\n",
       "    </tr>\n",
       "    <tr>\n",
       "      <th>Date</th>\n",
       "      <th></th>\n",
       "      <th></th>\n",
       "      <th></th>\n",
       "      <th></th>\n",
       "      <th></th>\n",
       "      <th></th>\n",
       "      <th></th>\n",
       "      <th></th>\n",
       "      <th></th>\n",
       "      <th></th>\n",
       "      <th></th>\n",
       "      <th></th>\n",
       "      <th></th>\n",
       "      <th></th>\n",
       "      <th></th>\n",
       "      <th></th>\n",
       "      <th></th>\n",
       "      <th></th>\n",
       "      <th></th>\n",
       "      <th></th>\n",
       "      <th></th>\n",
       "    </tr>\n",
       "  </thead>\n",
       "  <tbody>\n",
       "    <tr>\n",
       "      <th>2024-07-03 21:00:00</th>\n",
       "      <td>5542.12</td>\n",
       "      <td>5548.7</td>\n",
       "      <td>5537.23</td>\n",
       "      <td>5540.25</td>\n",
       "      <td>5542.62</td>\n",
       "      <td>5549.30</td>\n",
       "      <td>5537.73</td>\n",
       "      <td>5540.75</td>\n",
       "      <td>12133</td>\n",
       "      <td>5542.37</td>\n",
       "      <td>...</td>\n",
       "      <td>0</td>\n",
       "      <td>1</td>\n",
       "      <td>2</td>\n",
       "      <td>-+</td>\n",
       "      <td>-+</td>\n",
       "      <td>gray</td>\n",
       "      <td>0.822879</td>\n",
       "      <td>-+</td>\n",
       "      <td>gray</td>\n",
       "      <td>0.803511</td>\n",
       "    </tr>\n",
       "    <tr>\n",
       "      <th>2024-07-04 21:00:00</th>\n",
       "      <td>5540.25</td>\n",
       "      <td>5577.7</td>\n",
       "      <td>5536.90</td>\n",
       "      <td>5568.90</td>\n",
       "      <td>5540.75</td>\n",
       "      <td>5578.21</td>\n",
       "      <td>5537.50</td>\n",
       "      <td>5569.50</td>\n",
       "      <td>72693</td>\n",
       "      <td>5540.50</td>\n",
       "      <td>...</td>\n",
       "      <td>0</td>\n",
       "      <td>0</td>\n",
       "      <td>1</td>\n",
       "      <td>+-</td>\n",
       "      <td>-+</td>\n",
       "      <td>gray</td>\n",
       "      <td>0.822879</td>\n",
       "      <td>-+</td>\n",
       "      <td>gray</td>\n",
       "      <td>0.803511</td>\n",
       "    </tr>\n",
       "  </tbody>\n",
       "</table>\n",
       "<p>2 rows × 75 columns</p>\n",
       "</div>"
      ],
      "text/plain": [
       "                     BidOpen  BidHigh   BidLow  BidClose  AskOpen  AskHigh  \\\n",
       "Date                                                                         \n",
       "2024-07-03 21:00:00  5542.12   5548.7  5537.23   5540.25  5542.62  5549.30   \n",
       "2024-07-04 21:00:00  5540.25   5577.7  5536.90   5568.90  5540.75  5578.21   \n",
       "\n",
       "                      AskLow  AskClose  Volume     Open  ...  mfi_fade  \\\n",
       "Date                                                     ...             \n",
       "2024-07-03 21:00:00  5537.73   5540.75   12133  5542.37  ...         0   \n",
       "2024-07-04 21:00:00  5537.50   5569.50   72693  5540.50  ...         0   \n",
       "\n",
       "                     mfi_fake  mfi_sig  mfi_str  mfi_str_M1  zcol_M1  \\\n",
       "Date                                                                   \n",
       "2024-07-03 21:00:00         1        2       -+          -+     gray   \n",
       "2024-07-04 21:00:00         0        1       +-          -+     gray   \n",
       "\n",
       "                        ao_M1  mfi_str_W1  zcol_W1     ao_W1  \n",
       "Date                                                          \n",
       "2024-07-03 21:00:00  0.822879          -+     gray  0.803511  \n",
       "2024-07-04 21:00:00  0.822879          -+     gray  0.803511  \n",
       "\n",
       "[2 rows x 75 columns]"
      ]
     },
     "execution_count": 10,
     "metadata": {},
     "output_type": "execute_result"
    }
   ],
   "source": [
    "ttfdf.tail(2)"
   ]
  },
  {
   "cell_type": "code",
   "execution_count": 11,
   "metadata": {},
   "outputs": [],
   "source": [
    "\n",
    "from jgtml.mxhelper import wf_get_mxdf_and_add_mfi_features_to_df as ref_wf_get_mxdf_and_mfi_str_df\n",
    "\n",
    "from jgtml.mxhelper import _mfi_str_add_lag_as_int as add_mfi_lagging_feature_to_ttfdf\n",
    "\n",
    "from jgtml.mfihelper2 import column_mfi_str_in_dataframe_to_id as convert_mfi_columns_from_str_to_id\n",
    "\n",
    "ttfdf_with_mfi_feature_ready=convert_mfi_columns_from_str_to_id(ttfdf,t,inplace=False)\n"
   ]
  },
  {
   "cell_type": "code",
   "execution_count": null,
   "metadata": {},
   "outputs": [],
   "source": []
  },
  {
   "cell_type": "code",
   "execution_count": 12,
   "metadata": {},
   "outputs": [
    {
     "data": {
      "text/html": [
       "<div>\n",
       "<style scoped>\n",
       "    .dataframe tbody tr th:only-of-type {\n",
       "        vertical-align: middle;\n",
       "    }\n",
       "\n",
       "    .dataframe tbody tr th {\n",
       "        vertical-align: top;\n",
       "    }\n",
       "\n",
       "    .dataframe thead th {\n",
       "        text-align: right;\n",
       "    }\n",
       "</style>\n",
       "<table border=\"1\" class=\"dataframe\">\n",
       "  <thead>\n",
       "    <tr style=\"text-align: right;\">\n",
       "      <th></th>\n",
       "      <th>BidOpen</th>\n",
       "      <th>BidHigh</th>\n",
       "      <th>BidLow</th>\n",
       "      <th>BidClose</th>\n",
       "      <th>AskOpen</th>\n",
       "      <th>AskHigh</th>\n",
       "      <th>AskLow</th>\n",
       "      <th>AskClose</th>\n",
       "      <th>Volume</th>\n",
       "      <th>Open</th>\n",
       "      <th>...</th>\n",
       "      <th>mfi_fade</th>\n",
       "      <th>mfi_fake</th>\n",
       "      <th>mfi_sig</th>\n",
       "      <th>mfi_str</th>\n",
       "      <th>mfi_str_M1</th>\n",
       "      <th>zcol_M1</th>\n",
       "      <th>ao_M1</th>\n",
       "      <th>mfi_str_W1</th>\n",
       "      <th>zcol_W1</th>\n",
       "      <th>ao_W1</th>\n",
       "    </tr>\n",
       "    <tr>\n",
       "      <th>Date</th>\n",
       "      <th></th>\n",
       "      <th></th>\n",
       "      <th></th>\n",
       "      <th></th>\n",
       "      <th></th>\n",
       "      <th></th>\n",
       "      <th></th>\n",
       "      <th></th>\n",
       "      <th></th>\n",
       "      <th></th>\n",
       "      <th></th>\n",
       "      <th></th>\n",
       "      <th></th>\n",
       "      <th></th>\n",
       "      <th></th>\n",
       "      <th></th>\n",
       "      <th></th>\n",
       "      <th></th>\n",
       "      <th></th>\n",
       "      <th></th>\n",
       "      <th></th>\n",
       "    </tr>\n",
       "  </thead>\n",
       "  <tbody>\n",
       "    <tr>\n",
       "      <th>2024-07-03 21:00:00</th>\n",
       "      <td>5542.12</td>\n",
       "      <td>5548.7</td>\n",
       "      <td>5537.23</td>\n",
       "      <td>5540.25</td>\n",
       "      <td>5542.62</td>\n",
       "      <td>5549.30</td>\n",
       "      <td>5537.73</td>\n",
       "      <td>5540.75</td>\n",
       "      <td>12133</td>\n",
       "      <td>5542.37</td>\n",
       "      <td>...</td>\n",
       "      <td>0</td>\n",
       "      <td>1</td>\n",
       "      <td>2</td>\n",
       "      <td>2</td>\n",
       "      <td>2</td>\n",
       "      <td>gray</td>\n",
       "      <td>0.822879</td>\n",
       "      <td>2</td>\n",
       "      <td>gray</td>\n",
       "      <td>0.803511</td>\n",
       "    </tr>\n",
       "    <tr>\n",
       "      <th>2024-07-04 21:00:00</th>\n",
       "      <td>5540.25</td>\n",
       "      <td>5577.7</td>\n",
       "      <td>5536.90</td>\n",
       "      <td>5568.90</td>\n",
       "      <td>5540.75</td>\n",
       "      <td>5578.21</td>\n",
       "      <td>5537.50</td>\n",
       "      <td>5569.50</td>\n",
       "      <td>72693</td>\n",
       "      <td>5540.50</td>\n",
       "      <td>...</td>\n",
       "      <td>0</td>\n",
       "      <td>0</td>\n",
       "      <td>1</td>\n",
       "      <td>1</td>\n",
       "      <td>2</td>\n",
       "      <td>gray</td>\n",
       "      <td>0.822879</td>\n",
       "      <td>2</td>\n",
       "      <td>gray</td>\n",
       "      <td>0.803511</td>\n",
       "    </tr>\n",
       "  </tbody>\n",
       "</table>\n",
       "<p>2 rows × 75 columns</p>\n",
       "</div>"
      ],
      "text/plain": [
       "                     BidOpen  BidHigh   BidLow  BidClose  AskOpen  AskHigh  \\\n",
       "Date                                                                         \n",
       "2024-07-03 21:00:00  5542.12   5548.7  5537.23   5540.25  5542.62  5549.30   \n",
       "2024-07-04 21:00:00  5540.25   5577.7  5536.90   5568.90  5540.75  5578.21   \n",
       "\n",
       "                      AskLow  AskClose  Volume     Open  ...  mfi_fade  \\\n",
       "Date                                                     ...             \n",
       "2024-07-03 21:00:00  5537.73   5540.75   12133  5542.37  ...         0   \n",
       "2024-07-04 21:00:00  5537.50   5569.50   72693  5540.50  ...         0   \n",
       "\n",
       "                     mfi_fake  mfi_sig  mfi_str  mfi_str_M1  zcol_M1  \\\n",
       "Date                                                                   \n",
       "2024-07-03 21:00:00         1        2        2           2     gray   \n",
       "2024-07-04 21:00:00         0        1        1           2     gray   \n",
       "\n",
       "                        ao_M1  mfi_str_W1  zcol_W1     ao_W1  \n",
       "Date                                                          \n",
       "2024-07-03 21:00:00  0.822879           2     gray  0.803511  \n",
       "2024-07-04 21:00:00  0.822879           2     gray  0.803511  \n",
       "\n",
       "[2 rows x 75 columns]"
      ]
     },
     "execution_count": 12,
     "metadata": {},
     "output_type": "execute_result"
    }
   ],
   "source": [
    "\n",
    "ttfdf_with_mfi_feature_ready.tail(2)\n"
   ]
  },
  {
   "cell_type": "code",
   "execution_count": 13,
   "metadata": {},
   "outputs": [],
   "source": [
    "\n",
    "proto_df_with_lags_and_feature_ready=add_mfi_lagging_feature_to_ttfdf(ttfdf_with_mfi_feature_ready,t).copy()\n",
    "\n"
   ]
  },
  {
   "cell_type": "code",
   "execution_count": 14,
   "metadata": {},
   "outputs": [
    {
     "data": {
      "text/html": [
       "<div>\n",
       "<style scoped>\n",
       "    .dataframe tbody tr th:only-of-type {\n",
       "        vertical-align: middle;\n",
       "    }\n",
       "\n",
       "    .dataframe tbody tr th {\n",
       "        vertical-align: top;\n",
       "    }\n",
       "\n",
       "    .dataframe thead th {\n",
       "        text-align: right;\n",
       "    }\n",
       "</style>\n",
       "<table border=\"1\" class=\"dataframe\">\n",
       "  <thead>\n",
       "    <tr style=\"text-align: right;\">\n",
       "      <th></th>\n",
       "      <th>BidOpen</th>\n",
       "      <th>BidHigh</th>\n",
       "      <th>BidLow</th>\n",
       "      <th>BidClose</th>\n",
       "      <th>AskOpen</th>\n",
       "      <th>AskHigh</th>\n",
       "      <th>AskLow</th>\n",
       "      <th>AskClose</th>\n",
       "      <th>Volume</th>\n",
       "      <th>Open</th>\n",
       "      <th>...</th>\n",
       "      <th>mfi_str_W1_lag_1</th>\n",
       "      <th>mfi_str_W1_lag_2</th>\n",
       "      <th>mfi_str_W1_lag_3</th>\n",
       "      <th>mfi_str_W1_lag_4</th>\n",
       "      <th>mfi_str_W1_lag_5</th>\n",
       "      <th>mfi_str_lag_1</th>\n",
       "      <th>mfi_str_lag_2</th>\n",
       "      <th>mfi_str_lag_3</th>\n",
       "      <th>mfi_str_lag_4</th>\n",
       "      <th>mfi_str_lag_5</th>\n",
       "    </tr>\n",
       "    <tr>\n",
       "      <th>Date</th>\n",
       "      <th></th>\n",
       "      <th></th>\n",
       "      <th></th>\n",
       "      <th></th>\n",
       "      <th></th>\n",
       "      <th></th>\n",
       "      <th></th>\n",
       "      <th></th>\n",
       "      <th></th>\n",
       "      <th></th>\n",
       "      <th></th>\n",
       "      <th></th>\n",
       "      <th></th>\n",
       "      <th></th>\n",
       "      <th></th>\n",
       "      <th></th>\n",
       "      <th></th>\n",
       "      <th></th>\n",
       "      <th></th>\n",
       "      <th></th>\n",
       "      <th></th>\n",
       "    </tr>\n",
       "  </thead>\n",
       "  <tbody>\n",
       "    <tr>\n",
       "      <th>2024-07-03 21:00:00</th>\n",
       "      <td>5542.12</td>\n",
       "      <td>5548.7</td>\n",
       "      <td>5537.23</td>\n",
       "      <td>5540.25</td>\n",
       "      <td>5542.62</td>\n",
       "      <td>5549.30</td>\n",
       "      <td>5537.73</td>\n",
       "      <td>5540.75</td>\n",
       "      <td>12133</td>\n",
       "      <td>5542.37</td>\n",
       "      <td>...</td>\n",
       "      <td>2</td>\n",
       "      <td>2</td>\n",
       "      <td>2</td>\n",
       "      <td>3</td>\n",
       "      <td>3</td>\n",
       "      <td>3</td>\n",
       "      <td>2</td>\n",
       "      <td>3</td>\n",
       "      <td>4</td>\n",
       "      <td>4</td>\n",
       "    </tr>\n",
       "    <tr>\n",
       "      <th>2024-07-04 21:00:00</th>\n",
       "      <td>5540.25</td>\n",
       "      <td>5577.7</td>\n",
       "      <td>5536.90</td>\n",
       "      <td>5568.90</td>\n",
       "      <td>5540.75</td>\n",
       "      <td>5578.21</td>\n",
       "      <td>5537.50</td>\n",
       "      <td>5569.50</td>\n",
       "      <td>72693</td>\n",
       "      <td>5540.50</td>\n",
       "      <td>...</td>\n",
       "      <td>2</td>\n",
       "      <td>2</td>\n",
       "      <td>2</td>\n",
       "      <td>2</td>\n",
       "      <td>3</td>\n",
       "      <td>2</td>\n",
       "      <td>3</td>\n",
       "      <td>2</td>\n",
       "      <td>3</td>\n",
       "      <td>4</td>\n",
       "    </tr>\n",
       "  </tbody>\n",
       "</table>\n",
       "<p>2 rows × 90 columns</p>\n",
       "</div>"
      ],
      "text/plain": [
       "                     BidOpen  BidHigh   BidLow  BidClose  AskOpen  AskHigh  \\\n",
       "Date                                                                         \n",
       "2024-07-03 21:00:00  5542.12   5548.7  5537.23   5540.25  5542.62  5549.30   \n",
       "2024-07-04 21:00:00  5540.25   5577.7  5536.90   5568.90  5540.75  5578.21   \n",
       "\n",
       "                      AskLow  AskClose  Volume     Open  ...  \\\n",
       "Date                                                     ...   \n",
       "2024-07-03 21:00:00  5537.73   5540.75   12133  5542.37  ...   \n",
       "2024-07-04 21:00:00  5537.50   5569.50   72693  5540.50  ...   \n",
       "\n",
       "                     mfi_str_W1_lag_1  mfi_str_W1_lag_2  mfi_str_W1_lag_3  \\\n",
       "Date                                                                        \n",
       "2024-07-03 21:00:00                 2                 2                 2   \n",
       "2024-07-04 21:00:00                 2                 2                 2   \n",
       "\n",
       "                     mfi_str_W1_lag_4  mfi_str_W1_lag_5  mfi_str_lag_1  \\\n",
       "Date                                                                     \n",
       "2024-07-03 21:00:00                 3                 3              3   \n",
       "2024-07-04 21:00:00                 2                 3              2   \n",
       "\n",
       "                     mfi_str_lag_2  mfi_str_lag_3  mfi_str_lag_4  \\\n",
       "Date                                                               \n",
       "2024-07-03 21:00:00              2              3              4   \n",
       "2024-07-04 21:00:00              3              2              3   \n",
       "\n",
       "                     mfi_str_lag_5  \n",
       "Date                                \n",
       "2024-07-03 21:00:00              4  \n",
       "2024-07-04 21:00:00              4  \n",
       "\n",
       "[2 rows x 90 columns]"
      ]
     },
     "execution_count": 14,
     "metadata": {},
     "output_type": "execute_result"
    }
   ],
   "source": [
    "\n",
    "\n",
    "proto_df_with_lags_and_feature_ready.tail(2)\n"
   ]
  },
  {
   "cell_type": "code",
   "execution_count": 15,
   "metadata": {},
   "outputs": [
    {
     "data": {
      "text/plain": [
       "Index(['BidOpen', 'BidHigh', 'BidLow', 'BidClose', 'AskOpen', 'AskHigh',\n",
       "       'AskLow', 'AskClose', 'Volume', 'Open', 'High', 'Low', 'Close',\n",
       "       'Median', 'ao', 'ac', 'jaw', 'teeth', 'lips', 'bjaw', 'bteeth', 'blips',\n",
       "       'tjaw', 'tteeth', 'tlips', 'fh', 'fl', 'fh3', 'fl3', 'fh5', 'fl5',\n",
       "       'fh8', 'fl8', 'fh13', 'fl13', 'fh21', 'fl21', 'fh34', 'fl34', 'fh55',\n",
       "       'fl55', 'fh89', 'fl89', 'mfi', 'fdbb', 'fdbs', 'fdb', 'aoaz', 'aobz',\n",
       "       'zlc', 'zlcb', 'zlcs', 'zcol', 'sz', 'bz', 'acs', 'acb', 'ss', 'sb',\n",
       "       'price_peak_above', 'price_peak_bellow', 'ao_peak_above',\n",
       "       'ao_peak_bellow', 'mfi_sq', 'mfi_green', 'mfi_fade', 'mfi_fake',\n",
       "       'mfi_sig', 'mfi_str', 'mfi_str_M1', 'zcol_M1', 'ao_M1', 'mfi_str_W1',\n",
       "       'zcol_W1', 'ao_W1', 'mfi_str_M1_lag_1', 'mfi_str_M1_lag_2',\n",
       "       'mfi_str_M1_lag_3', 'mfi_str_M1_lag_4', 'mfi_str_M1_lag_5',\n",
       "       'mfi_str_W1_lag_1', 'mfi_str_W1_lag_2', 'mfi_str_W1_lag_3',\n",
       "       'mfi_str_W1_lag_4', 'mfi_str_W1_lag_5', 'mfi_str_lag_1',\n",
       "       'mfi_str_lag_2', 'mfi_str_lag_3', 'mfi_str_lag_4', 'mfi_str_lag_5'],\n",
       "      dtype='object')"
      ]
     },
     "execution_count": 15,
     "metadata": {},
     "output_type": "execute_result"
    }
   ],
   "source": [
    "\n",
    "\n",
    "ttfdf_with_mfi_feature_ready.columns\n"
   ]
  },
  {
   "cell_type": "code",
   "execution_count": 16,
   "metadata": {},
   "outputs": [
    {
     "data": {
      "text/plain": [
       "Index(['BidOpen', 'BidHigh', 'BidLow', 'BidClose', 'AskOpen', 'AskHigh',\n",
       "       'AskLow', 'AskClose', 'Volume', 'Open', 'High', 'Low', 'Close',\n",
       "       'Median', 'ao', 'ac', 'jaw', 'teeth', 'lips', 'bjaw', 'bteeth', 'blips',\n",
       "       'tjaw', 'tteeth', 'tlips', 'fh', 'fl', 'fh3', 'fl3', 'fh5', 'fl5',\n",
       "       'fh8', 'fl8', 'fh13', 'fl13', 'fh21', 'fl21', 'fh34', 'fl34', 'fh55',\n",
       "       'fl55', 'fh89', 'fl89', 'mfi', 'fdbb', 'fdbs', 'fdb', 'aoaz', 'aobz',\n",
       "       'zlc', 'zlcb', 'zlcs', 'zcol', 'sz', 'bz', 'acs', 'acb', 'ss', 'sb',\n",
       "       'price_peak_above', 'price_peak_bellow', 'ao_peak_above',\n",
       "       'ao_peak_bellow', 'mfi_sq', 'mfi_green', 'mfi_fade', 'mfi_fake',\n",
       "       'mfi_sig', 'mfi_str', 'mfi_str_M1', 'zcol_M1', 'ao_M1', 'mfi_str_W1',\n",
       "       'zcol_W1', 'ao_W1', 'mfi_str_M1_lag_1', 'mfi_str_M1_lag_2',\n",
       "       'mfi_str_M1_lag_3', 'mfi_str_M1_lag_4', 'mfi_str_M1_lag_5',\n",
       "       'mfi_str_W1_lag_1', 'mfi_str_W1_lag_2', 'mfi_str_W1_lag_3',\n",
       "       'mfi_str_W1_lag_4', 'mfi_str_W1_lag_5', 'mfi_str_lag_1',\n",
       "       'mfi_str_lag_2', 'mfi_str_lag_3', 'mfi_str_lag_4', 'mfi_str_lag_5'],\n",
       "      dtype='object')"
      ]
     },
     "execution_count": 16,
     "metadata": {},
     "output_type": "execute_result"
    }
   ],
   "source": [
    "\n",
    "\n",
    "proto_df_with_lags_and_feature_ready.columns"
   ]
  },
  {
   "cell_type": "code",
   "execution_count": null,
   "metadata": {},
   "outputs": [],
   "source": []
  },
  {
   "cell_type": "markdown",
   "metadata": {},
   "source": [
    "# Proto part to Upgrade\n",
    "\n",
    "## to include above correct workflow"
   ]
  },
  {
   "cell_type": "code",
   "execution_count": 17,
   "metadata": {},
   "outputs": [
    {
     "name": "stdout",
     "output_type": "stream",
     "text": [
      "SPX500_D1_pto_240706pt_ttf_01.csv\n",
      "SPX500_D1_pto_240706pt_ttf_lags_05.csv\n",
      "SPX500_D1_pto_240706pt_ttf_lags_05int.csv\n"
     ]
    }
   ],
   "source": [
    "\n",
    "xbn_01_ttfdf = mk_xbn(i,t,xperiment_bnamespace,bnamespace_01_ttfdf,\"01\")\n",
    "xfn_01_ttfdf=mk_xfn_from_xbn(xbn_01_ttfdf)\n",
    "print(xfn_01_ttfdf)\n",
    "\n",
    "xbn_05_ttfdf_with_lags = mk_xbn(i,t,xperiment_bnamespace,bnamespace_05_ttfdf_with_lags,\"05\")\n",
    "xfn_05_ttfdf_with_lags=mk_xfn_from_xbn(xbn_05_ttfdf_with_lags)\n",
    "print(xfn_05_ttfdf_with_lags)\n",
    "\n",
    "\n",
    "xbn_05_ttfdf_with_lags_int = mk_xbn(i,t,xperiment_bnamespace,bnamespace_05_ttfdf_with_lags,\"05int\")\n",
    "xfn_05_ttfdf_with_lags_int=mk_xfn_from_xbn(xbn_05_ttfdf_with_lags_int)\n",
    "print(xfn_05_ttfdf_with_lags_int)\n",
    "\n"
   ]
  },
  {
   "cell_type": "code",
   "execution_count": 18,
   "metadata": {},
   "outputs": [],
   "source": [
    "\n",
    "ttfdf_with_mfi_feature_ready.to_csv(xfn_05_ttfdf_with_lags)\n"
   ]
  },
  {
   "cell_type": "code",
   "execution_count": 19,
   "metadata": {},
   "outputs": [],
   "source": [
    "ttfdf.to_csv(xfn_01_ttfdf)"
   ]
  },
  {
   "cell_type": "code",
   "execution_count": null,
   "metadata": {},
   "outputs": [],
   "source": []
  },
  {
   "cell_type": "markdown",
   "metadata": {},
   "source": []
  },
  {
   "cell_type": "code",
   "execution_count": 21,
   "metadata": {},
   "outputs": [
    {
     "ename": "SyntaxError",
     "evalue": "keyword argument repeated: inplace (realityhelper.py, line 31)",
     "output_type": "error",
     "traceback": [
      "Traceback \u001b[0;36m(most recent call last)\u001b[0m:\n",
      "\u001b[0m  File \u001b[1;32m~/anaconda3/envs/jgtml/lib/python3.10/site-packages/IPython/core/interactiveshell.py:3577\u001b[0m in \u001b[1;35mrun_code\u001b[0m\n    exec(code_obj, self.user_global_ns, self.user_ns)\u001b[0m\n",
      "\u001b[0;36m  Cell \u001b[0;32mIn[21], line 1\u001b[0;36m\n\u001b[0;31m    from jgtml import realityhelper\u001b[0;36m\n",
      "\u001b[0;36m  File \u001b[0;32m/a/src/_jgt/jgtml/./jgtml/realityhelper.py:31\u001b[0;36m\u001b[0m\n\u001b[0;31m    df=add_mfi_lagging_feature_to_ttfdf(df,t,lag_period=lag_period, total_lagging_periods=total_lagging_periods,inplace=dropna,inplace=True)\u001b[0m\n\u001b[0m                                                                                                                               ^\u001b[0m\n\u001b[0;31mSyntaxError\u001b[0m\u001b[0;31m:\u001b[0m keyword argument repeated: inplace\n"
     ]
    }
   ],
   "source": []
  },
  {
   "cell_type": "code",
   "execution_count": null,
   "metadata": {},
   "outputs": [
    {
     "name": "stdout",
     "output_type": "stream",
     "text": [
      "   Read TTF:  /var/lib/jgt/full/data/ttf/SPX500_D1_ttf.csv\n"
     ]
    }
   ],
   "source": []
  },
  {
   "cell_type": "code",
   "execution_count": null,
   "metadata": {},
   "outputs": [
    {
     "ename": "AttributeError",
     "evalue": "'NoneType' object has no attribute 'columns'",
     "output_type": "error",
     "traceback": [
      "\u001b[0;31m---------------------------------------------------------------------------\u001b[0m",
      "\u001b[0;31mAttributeError\u001b[0m                            Traceback (most recent call last)",
      "Cell \u001b[0;32mIn[21], line 1\u001b[0m\n\u001b[0;32m----> 1\u001b[0m \u001b[43mdf_factoring_proto\u001b[49m\u001b[38;5;241;43m.\u001b[39;49m\u001b[43mcolumns\u001b[49m\n",
      "\u001b[0;31mAttributeError\u001b[0m: 'NoneType' object has no attribute 'columns'"
     ]
    }
   ],
   "source": []
  },
  {
   "cell_type": "code",
   "execution_count": null,
   "metadata": {},
   "outputs": [],
   "source": []
  },
  {
   "cell_type": "code",
   "execution_count": null,
   "metadata": {},
   "outputs": [],
   "source": []
  },
  {
   "cell_type": "markdown",
   "metadata": {},
   "source": [
    "## Save that datasets in HF\n",
    "\n"
   ]
  },
  {
   "cell_type": "code",
   "execution_count": null,
   "metadata": {},
   "outputs": [],
   "source": [
    "\n",
    "from datasets import Dataset\n",
    "\n",
    "import pandas as pd\n",
    "\n",
    "\n",
    "repo=\"jgwill/xjgtml2407pub\"\n"
   ]
  },
  {
   "cell_type": "code",
   "execution_count": null,
   "metadata": {},
   "outputs": [],
   "source": []
  }
 ],
 "metadata": {
  "kernelspec": {
   "display_name": "jgtml",
   "language": "python",
   "name": "python3"
  },
  "language_info": {
   "codemirror_mode": {
    "name": "ipython",
    "version": 3
   },
   "file_extension": ".py",
   "mimetype": "text/x-python",
   "name": "python",
   "nbconvert_exporter": "python",
   "pygments_lexer": "ipython3",
   "version": "3.10.14"
  }
 },
 "nbformat": 4,
 "nbformat_minor": 2
}
